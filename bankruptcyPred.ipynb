{
 "cells": [
  {
   "cell_type": "markdown",
   "id": "1a6fc0ff",
   "metadata": {},
   "source": [
    "# Company bankrupcy prediction\n",
    "\n",
    "Companies are the engines of a free market economy. Having their smaller economical worlds they try to do their best at staying on the flow in the big competition.\n",
    "\n",
    "In this notebook I try to take in cosideration financial aspects of companies in order to determine their potential to go bankrupt."
   ]
  },
  {
   "cell_type": "code",
   "execution_count": 37,
   "id": "18b0a675",
   "metadata": {},
   "outputs": [],
   "source": [
    "import pandas as pd\n",
    "import seaborn as sns\n",
    "import matplotlib.pyplot as plt\n",
    "import numpy as np"
   ]
  },
  {
   "cell_type": "markdown",
   "id": "95ae14ef",
   "metadata": {},
   "source": [
    "## Dataset\n",
    "\n",
    "This dataset is sourced from kaggle. \n",
    "https://www.kaggle.com/datasets/fedesoriano/company-bankruptcy-prediction\n",
    "\n",
    "I find this dataset suitable since it has what I believe has the most impact on the prediction: Net income, Return on assets (ROA) and Debt ratio. Things the professional I consulted also were mentioned as useful. It is indeed real data from the Taiwan Economic Journal for the years 1999 to 2009. It is all numeric, easy to work with. I dont have to deal with duplicated data or missing data."
   ]
  },
  {
   "cell_type": "code",
   "execution_count": 38,
   "id": "9c323173",
   "metadata": {},
   "outputs": [
    {
     "name": "stdout",
     "output_type": "stream",
     "text": [
      "(6819, 96)\n"
     ]
    },
    {
     "data": {
      "text/html": [
       "<div>\n",
       "<style scoped>\n",
       "    .dataframe tbody tr th:only-of-type {\n",
       "        vertical-align: middle;\n",
       "    }\n",
       "\n",
       "    .dataframe tbody tr th {\n",
       "        vertical-align: top;\n",
       "    }\n",
       "\n",
       "    .dataframe thead th {\n",
       "        text-align: right;\n",
       "    }\n",
       "</style>\n",
       "<table border=\"1\" class=\"dataframe\">\n",
       "  <thead>\n",
       "    <tr style=\"text-align: right;\">\n",
       "      <th></th>\n",
       "      <th>Bankrupt?</th>\n",
       "      <th>ROA(C) before interest and depreciation before interest</th>\n",
       "      <th>ROA(A) before interest and % after tax</th>\n",
       "      <th>ROA(B) before interest and depreciation after tax</th>\n",
       "      <th>Operating Gross Margin</th>\n",
       "      <th>Realized Sales Gross Margin</th>\n",
       "      <th>Operating Profit Rate</th>\n",
       "      <th>Pre-tax net Interest Rate</th>\n",
       "      <th>After-tax net Interest Rate</th>\n",
       "      <th>Non-industry income and expenditure/revenue</th>\n",
       "      <th>...</th>\n",
       "      <th>Net Income to Total Assets</th>\n",
       "      <th>Total assets to GNP price</th>\n",
       "      <th>No-credit Interval</th>\n",
       "      <th>Gross Profit to Sales</th>\n",
       "      <th>Net Income to Stockholder's Equity</th>\n",
       "      <th>Liability to Equity</th>\n",
       "      <th>Degree of Financial Leverage (DFL)</th>\n",
       "      <th>Interest Coverage Ratio (Interest expense to EBIT)</th>\n",
       "      <th>Net Income Flag</th>\n",
       "      <th>Equity to Liability</th>\n",
       "    </tr>\n",
       "  </thead>\n",
       "  <tbody>\n",
       "    <tr>\n",
       "      <th>0</th>\n",
       "      <td>1</td>\n",
       "      <td>0.370594</td>\n",
       "      <td>0.424389</td>\n",
       "      <td>0.405750</td>\n",
       "      <td>0.601457</td>\n",
       "      <td>0.601457</td>\n",
       "      <td>0.998969</td>\n",
       "      <td>0.796887</td>\n",
       "      <td>0.808809</td>\n",
       "      <td>0.302646</td>\n",
       "      <td>...</td>\n",
       "      <td>0.716845</td>\n",
       "      <td>0.009219</td>\n",
       "      <td>0.622879</td>\n",
       "      <td>0.601453</td>\n",
       "      <td>0.827890</td>\n",
       "      <td>0.290202</td>\n",
       "      <td>0.026601</td>\n",
       "      <td>0.564050</td>\n",
       "      <td>1</td>\n",
       "      <td>0.016469</td>\n",
       "    </tr>\n",
       "    <tr>\n",
       "      <th>1</th>\n",
       "      <td>1</td>\n",
       "      <td>0.464291</td>\n",
       "      <td>0.538214</td>\n",
       "      <td>0.516730</td>\n",
       "      <td>0.610235</td>\n",
       "      <td>0.610235</td>\n",
       "      <td>0.998946</td>\n",
       "      <td>0.797380</td>\n",
       "      <td>0.809301</td>\n",
       "      <td>0.303556</td>\n",
       "      <td>...</td>\n",
       "      <td>0.795297</td>\n",
       "      <td>0.008323</td>\n",
       "      <td>0.623652</td>\n",
       "      <td>0.610237</td>\n",
       "      <td>0.839969</td>\n",
       "      <td>0.283846</td>\n",
       "      <td>0.264577</td>\n",
       "      <td>0.570175</td>\n",
       "      <td>1</td>\n",
       "      <td>0.020794</td>\n",
       "    </tr>\n",
       "    <tr>\n",
       "      <th>2</th>\n",
       "      <td>1</td>\n",
       "      <td>0.426071</td>\n",
       "      <td>0.499019</td>\n",
       "      <td>0.472295</td>\n",
       "      <td>0.601450</td>\n",
       "      <td>0.601364</td>\n",
       "      <td>0.998857</td>\n",
       "      <td>0.796403</td>\n",
       "      <td>0.808388</td>\n",
       "      <td>0.302035</td>\n",
       "      <td>...</td>\n",
       "      <td>0.774670</td>\n",
       "      <td>0.040003</td>\n",
       "      <td>0.623841</td>\n",
       "      <td>0.601449</td>\n",
       "      <td>0.836774</td>\n",
       "      <td>0.290189</td>\n",
       "      <td>0.026555</td>\n",
       "      <td>0.563706</td>\n",
       "      <td>1</td>\n",
       "      <td>0.016474</td>\n",
       "    </tr>\n",
       "    <tr>\n",
       "      <th>3</th>\n",
       "      <td>1</td>\n",
       "      <td>0.399844</td>\n",
       "      <td>0.451265</td>\n",
       "      <td>0.457733</td>\n",
       "      <td>0.583541</td>\n",
       "      <td>0.583541</td>\n",
       "      <td>0.998700</td>\n",
       "      <td>0.796967</td>\n",
       "      <td>0.808966</td>\n",
       "      <td>0.303350</td>\n",
       "      <td>...</td>\n",
       "      <td>0.739555</td>\n",
       "      <td>0.003252</td>\n",
       "      <td>0.622929</td>\n",
       "      <td>0.583538</td>\n",
       "      <td>0.834697</td>\n",
       "      <td>0.281721</td>\n",
       "      <td>0.026697</td>\n",
       "      <td>0.564663</td>\n",
       "      <td>1</td>\n",
       "      <td>0.023982</td>\n",
       "    </tr>\n",
       "    <tr>\n",
       "      <th>4</th>\n",
       "      <td>1</td>\n",
       "      <td>0.465022</td>\n",
       "      <td>0.538432</td>\n",
       "      <td>0.522298</td>\n",
       "      <td>0.598783</td>\n",
       "      <td>0.598783</td>\n",
       "      <td>0.998973</td>\n",
       "      <td>0.797366</td>\n",
       "      <td>0.809304</td>\n",
       "      <td>0.303475</td>\n",
       "      <td>...</td>\n",
       "      <td>0.795016</td>\n",
       "      <td>0.003878</td>\n",
       "      <td>0.623521</td>\n",
       "      <td>0.598782</td>\n",
       "      <td>0.839973</td>\n",
       "      <td>0.278514</td>\n",
       "      <td>0.024752</td>\n",
       "      <td>0.575617</td>\n",
       "      <td>1</td>\n",
       "      <td>0.035490</td>\n",
       "    </tr>\n",
       "    <tr>\n",
       "      <th>...</th>\n",
       "      <td>...</td>\n",
       "      <td>...</td>\n",
       "      <td>...</td>\n",
       "      <td>...</td>\n",
       "      <td>...</td>\n",
       "      <td>...</td>\n",
       "      <td>...</td>\n",
       "      <td>...</td>\n",
       "      <td>...</td>\n",
       "      <td>...</td>\n",
       "      <td>...</td>\n",
       "      <td>...</td>\n",
       "      <td>...</td>\n",
       "      <td>...</td>\n",
       "      <td>...</td>\n",
       "      <td>...</td>\n",
       "      <td>...</td>\n",
       "      <td>...</td>\n",
       "      <td>...</td>\n",
       "      <td>...</td>\n",
       "      <td>...</td>\n",
       "    </tr>\n",
       "    <tr>\n",
       "      <th>6814</th>\n",
       "      <td>0</td>\n",
       "      <td>0.493687</td>\n",
       "      <td>0.539468</td>\n",
       "      <td>0.543230</td>\n",
       "      <td>0.604455</td>\n",
       "      <td>0.604462</td>\n",
       "      <td>0.998992</td>\n",
       "      <td>0.797409</td>\n",
       "      <td>0.809331</td>\n",
       "      <td>0.303510</td>\n",
       "      <td>...</td>\n",
       "      <td>0.799927</td>\n",
       "      <td>0.000466</td>\n",
       "      <td>0.623620</td>\n",
       "      <td>0.604455</td>\n",
       "      <td>0.840359</td>\n",
       "      <td>0.279606</td>\n",
       "      <td>0.027064</td>\n",
       "      <td>0.566193</td>\n",
       "      <td>1</td>\n",
       "      <td>0.029890</td>\n",
       "    </tr>\n",
       "    <tr>\n",
       "      <th>6815</th>\n",
       "      <td>0</td>\n",
       "      <td>0.475162</td>\n",
       "      <td>0.538269</td>\n",
       "      <td>0.524172</td>\n",
       "      <td>0.598308</td>\n",
       "      <td>0.598308</td>\n",
       "      <td>0.998992</td>\n",
       "      <td>0.797414</td>\n",
       "      <td>0.809327</td>\n",
       "      <td>0.303520</td>\n",
       "      <td>...</td>\n",
       "      <td>0.799748</td>\n",
       "      <td>0.001959</td>\n",
       "      <td>0.623931</td>\n",
       "      <td>0.598306</td>\n",
       "      <td>0.840306</td>\n",
       "      <td>0.278132</td>\n",
       "      <td>0.027009</td>\n",
       "      <td>0.566018</td>\n",
       "      <td>1</td>\n",
       "      <td>0.038284</td>\n",
       "    </tr>\n",
       "    <tr>\n",
       "      <th>6816</th>\n",
       "      <td>0</td>\n",
       "      <td>0.472725</td>\n",
       "      <td>0.533744</td>\n",
       "      <td>0.520638</td>\n",
       "      <td>0.610444</td>\n",
       "      <td>0.610213</td>\n",
       "      <td>0.998984</td>\n",
       "      <td>0.797401</td>\n",
       "      <td>0.809317</td>\n",
       "      <td>0.303512</td>\n",
       "      <td>...</td>\n",
       "      <td>0.797778</td>\n",
       "      <td>0.002840</td>\n",
       "      <td>0.624156</td>\n",
       "      <td>0.610441</td>\n",
       "      <td>0.840138</td>\n",
       "      <td>0.275789</td>\n",
       "      <td>0.026791</td>\n",
       "      <td>0.565158</td>\n",
       "      <td>1</td>\n",
       "      <td>0.097649</td>\n",
       "    </tr>\n",
       "    <tr>\n",
       "      <th>6817</th>\n",
       "      <td>0</td>\n",
       "      <td>0.506264</td>\n",
       "      <td>0.559911</td>\n",
       "      <td>0.554045</td>\n",
       "      <td>0.607850</td>\n",
       "      <td>0.607850</td>\n",
       "      <td>0.999074</td>\n",
       "      <td>0.797500</td>\n",
       "      <td>0.809399</td>\n",
       "      <td>0.303498</td>\n",
       "      <td>...</td>\n",
       "      <td>0.811808</td>\n",
       "      <td>0.002837</td>\n",
       "      <td>0.623957</td>\n",
       "      <td>0.607846</td>\n",
       "      <td>0.841084</td>\n",
       "      <td>0.277547</td>\n",
       "      <td>0.026822</td>\n",
       "      <td>0.565302</td>\n",
       "      <td>1</td>\n",
       "      <td>0.044009</td>\n",
       "    </tr>\n",
       "    <tr>\n",
       "      <th>6818</th>\n",
       "      <td>0</td>\n",
       "      <td>0.493053</td>\n",
       "      <td>0.570105</td>\n",
       "      <td>0.549548</td>\n",
       "      <td>0.627409</td>\n",
       "      <td>0.627409</td>\n",
       "      <td>0.998080</td>\n",
       "      <td>0.801987</td>\n",
       "      <td>0.813800</td>\n",
       "      <td>0.313415</td>\n",
       "      <td>...</td>\n",
       "      <td>0.815956</td>\n",
       "      <td>0.000707</td>\n",
       "      <td>0.626680</td>\n",
       "      <td>0.627408</td>\n",
       "      <td>0.841019</td>\n",
       "      <td>0.275114</td>\n",
       "      <td>0.026793</td>\n",
       "      <td>0.565167</td>\n",
       "      <td>1</td>\n",
       "      <td>0.233902</td>\n",
       "    </tr>\n",
       "  </tbody>\n",
       "</table>\n",
       "<p>6819 rows × 96 columns</p>\n",
       "</div>"
      ],
      "text/plain": [
       "      Bankrupt?   ROA(C) before interest and depreciation before interest  \\\n",
       "0             1                                           0.370594          \n",
       "1             1                                           0.464291          \n",
       "2             1                                           0.426071          \n",
       "3             1                                           0.399844          \n",
       "4             1                                           0.465022          \n",
       "...         ...                                                ...          \n",
       "6814          0                                           0.493687          \n",
       "6815          0                                           0.475162          \n",
       "6816          0                                           0.472725          \n",
       "6817          0                                           0.506264          \n",
       "6818          0                                           0.493053          \n",
       "\n",
       "       ROA(A) before interest and % after tax  \\\n",
       "0                                    0.424389   \n",
       "1                                    0.538214   \n",
       "2                                    0.499019   \n",
       "3                                    0.451265   \n",
       "4                                    0.538432   \n",
       "...                                       ...   \n",
       "6814                                 0.539468   \n",
       "6815                                 0.538269   \n",
       "6816                                 0.533744   \n",
       "6817                                 0.559911   \n",
       "6818                                 0.570105   \n",
       "\n",
       "       ROA(B) before interest and depreciation after tax  \\\n",
       "0                                              0.405750    \n",
       "1                                              0.516730    \n",
       "2                                              0.472295    \n",
       "3                                              0.457733    \n",
       "4                                              0.522298    \n",
       "...                                                 ...    \n",
       "6814                                           0.543230    \n",
       "6815                                           0.524172    \n",
       "6816                                           0.520638    \n",
       "6817                                           0.554045    \n",
       "6818                                           0.549548    \n",
       "\n",
       "       Operating Gross Margin   Realized Sales Gross Margin  \\\n",
       "0                    0.601457                      0.601457   \n",
       "1                    0.610235                      0.610235   \n",
       "2                    0.601450                      0.601364   \n",
       "3                    0.583541                      0.583541   \n",
       "4                    0.598783                      0.598783   \n",
       "...                       ...                           ...   \n",
       "6814                 0.604455                      0.604462   \n",
       "6815                 0.598308                      0.598308   \n",
       "6816                 0.610444                      0.610213   \n",
       "6817                 0.607850                      0.607850   \n",
       "6818                 0.627409                      0.627409   \n",
       "\n",
       "       Operating Profit Rate   Pre-tax net Interest Rate  \\\n",
       "0                   0.998969                    0.796887   \n",
       "1                   0.998946                    0.797380   \n",
       "2                   0.998857                    0.796403   \n",
       "3                   0.998700                    0.796967   \n",
       "4                   0.998973                    0.797366   \n",
       "...                      ...                         ...   \n",
       "6814                0.998992                    0.797409   \n",
       "6815                0.998992                    0.797414   \n",
       "6816                0.998984                    0.797401   \n",
       "6817                0.999074                    0.797500   \n",
       "6818                0.998080                    0.801987   \n",
       "\n",
       "       After-tax net Interest Rate  \\\n",
       "0                         0.808809   \n",
       "1                         0.809301   \n",
       "2                         0.808388   \n",
       "3                         0.808966   \n",
       "4                         0.809304   \n",
       "...                            ...   \n",
       "6814                      0.809331   \n",
       "6815                      0.809327   \n",
       "6816                      0.809317   \n",
       "6817                      0.809399   \n",
       "6818                      0.813800   \n",
       "\n",
       "       Non-industry income and expenditure/revenue  ...  \\\n",
       "0                                         0.302646  ...   \n",
       "1                                         0.303556  ...   \n",
       "2                                         0.302035  ...   \n",
       "3                                         0.303350  ...   \n",
       "4                                         0.303475  ...   \n",
       "...                                            ...  ...   \n",
       "6814                                      0.303510  ...   \n",
       "6815                                      0.303520  ...   \n",
       "6816                                      0.303512  ...   \n",
       "6817                                      0.303498  ...   \n",
       "6818                                      0.313415  ...   \n",
       "\n",
       "       Net Income to Total Assets   Total assets to GNP price  \\\n",
       "0                        0.716845                    0.009219   \n",
       "1                        0.795297                    0.008323   \n",
       "2                        0.774670                    0.040003   \n",
       "3                        0.739555                    0.003252   \n",
       "4                        0.795016                    0.003878   \n",
       "...                           ...                         ...   \n",
       "6814                     0.799927                    0.000466   \n",
       "6815                     0.799748                    0.001959   \n",
       "6816                     0.797778                    0.002840   \n",
       "6817                     0.811808                    0.002837   \n",
       "6818                     0.815956                    0.000707   \n",
       "\n",
       "       No-credit Interval   Gross Profit to Sales  \\\n",
       "0                0.622879                0.601453   \n",
       "1                0.623652                0.610237   \n",
       "2                0.623841                0.601449   \n",
       "3                0.622929                0.583538   \n",
       "4                0.623521                0.598782   \n",
       "...                   ...                     ...   \n",
       "6814             0.623620                0.604455   \n",
       "6815             0.623931                0.598306   \n",
       "6816             0.624156                0.610441   \n",
       "6817             0.623957                0.607846   \n",
       "6818             0.626680                0.627408   \n",
       "\n",
       "       Net Income to Stockholder's Equity   Liability to Equity  \\\n",
       "0                                0.827890              0.290202   \n",
       "1                                0.839969              0.283846   \n",
       "2                                0.836774              0.290189   \n",
       "3                                0.834697              0.281721   \n",
       "4                                0.839973              0.278514   \n",
       "...                                   ...                   ...   \n",
       "6814                             0.840359              0.279606   \n",
       "6815                             0.840306              0.278132   \n",
       "6816                             0.840138              0.275789   \n",
       "6817                             0.841084              0.277547   \n",
       "6818                             0.841019              0.275114   \n",
       "\n",
       "       Degree of Financial Leverage (DFL)  \\\n",
       "0                                0.026601   \n",
       "1                                0.264577   \n",
       "2                                0.026555   \n",
       "3                                0.026697   \n",
       "4                                0.024752   \n",
       "...                                   ...   \n",
       "6814                             0.027064   \n",
       "6815                             0.027009   \n",
       "6816                             0.026791   \n",
       "6817                             0.026822   \n",
       "6818                             0.026793   \n",
       "\n",
       "       Interest Coverage Ratio (Interest expense to EBIT)   Net Income Flag  \\\n",
       "0                                              0.564050                   1   \n",
       "1                                              0.570175                   1   \n",
       "2                                              0.563706                   1   \n",
       "3                                              0.564663                   1   \n",
       "4                                              0.575617                   1   \n",
       "...                                                 ...                 ...   \n",
       "6814                                           0.566193                   1   \n",
       "6815                                           0.566018                   1   \n",
       "6816                                           0.565158                   1   \n",
       "6817                                           0.565302                   1   \n",
       "6818                                           0.565167                   1   \n",
       "\n",
       "       Equity to Liability  \n",
       "0                 0.016469  \n",
       "1                 0.020794  \n",
       "2                 0.016474  \n",
       "3                 0.023982  \n",
       "4                 0.035490  \n",
       "...                    ...  \n",
       "6814              0.029890  \n",
       "6815              0.038284  \n",
       "6816              0.097649  \n",
       "6817              0.044009  \n",
       "6818              0.233902  \n",
       "\n",
       "[6819 rows x 96 columns]"
      ]
     },
     "execution_count": 38,
     "metadata": {},
     "output_type": "execute_result"
    }
   ],
   "source": [
    "brDf = pd.read_csv('data.csv')\n",
    "print(brDf.shape)\n",
    "brDf"
   ]
  },
  {
   "cell_type": "code",
   "execution_count": 39,
   "id": "59e3f690",
   "metadata": {},
   "outputs": [
    {
     "name": "stdout",
     "output_type": "stream",
     "text": [
      "<class 'pandas.core.frame.DataFrame'>\n",
      "RangeIndex: 6819 entries, 0 to 6818\n",
      "Data columns (total 96 columns):\n",
      " #   Column                                                    Non-Null Count  Dtype  \n",
      "---  ------                                                    --------------  -----  \n",
      " 0   Bankrupt?                                                 6819 non-null   int64  \n",
      " 1    ROA(C) before interest and depreciation before interest  6819 non-null   float64\n",
      " 2    ROA(A) before interest and % after tax                   6819 non-null   float64\n",
      " 3    ROA(B) before interest and depreciation after tax        6819 non-null   float64\n",
      " 4    Operating Gross Margin                                   6819 non-null   float64\n",
      " 5    Realized Sales Gross Margin                              6819 non-null   float64\n",
      " 6    Operating Profit Rate                                    6819 non-null   float64\n",
      " 7    Pre-tax net Interest Rate                                6819 non-null   float64\n",
      " 8    After-tax net Interest Rate                              6819 non-null   float64\n",
      " 9    Non-industry income and expenditure/revenue              6819 non-null   float64\n",
      " 10   Continuous interest rate (after tax)                     6819 non-null   float64\n",
      " 11   Operating Expense Rate                                   6819 non-null   float64\n",
      " 12   Research and development expense rate                    6819 non-null   float64\n",
      " 13   Cash flow rate                                           6819 non-null   float64\n",
      " 14   Interest-bearing debt interest rate                      6819 non-null   float64\n",
      " 15   Tax rate (A)                                             6819 non-null   float64\n",
      " 16   Net Value Per Share (B)                                  6819 non-null   float64\n",
      " 17   Net Value Per Share (A)                                  6819 non-null   float64\n",
      " 18   Net Value Per Share (C)                                  6819 non-null   float64\n",
      " 19   Persistent EPS in the Last Four Seasons                  6819 non-null   float64\n",
      " 20   Cash Flow Per Share                                      6819 non-null   float64\n",
      " 21   Revenue Per Share (Yuan ¥)                               6819 non-null   float64\n",
      " 22   Operating Profit Per Share (Yuan ¥)                      6819 non-null   float64\n",
      " 23   Per Share Net profit before tax (Yuan ¥)                 6819 non-null   float64\n",
      " 24   Realized Sales Gross Profit Growth Rate                  6819 non-null   float64\n",
      " 25   Operating Profit Growth Rate                             6819 non-null   float64\n",
      " 26   After-tax Net Profit Growth Rate                         6819 non-null   float64\n",
      " 27   Regular Net Profit Growth Rate                           6819 non-null   float64\n",
      " 28   Continuous Net Profit Growth Rate                        6819 non-null   float64\n",
      " 29   Total Asset Growth Rate                                  6819 non-null   float64\n",
      " 30   Net Value Growth Rate                                    6819 non-null   float64\n",
      " 31   Total Asset Return Growth Rate Ratio                     6819 non-null   float64\n",
      " 32   Cash Reinvestment %                                      6819 non-null   float64\n",
      " 33   Current Ratio                                            6819 non-null   float64\n",
      " 34   Quick Ratio                                              6819 non-null   float64\n",
      " 35   Interest Expense Ratio                                   6819 non-null   float64\n",
      " 36   Total debt/Total net worth                               6819 non-null   float64\n",
      " 37   Debt ratio %                                             6819 non-null   float64\n",
      " 38   Net worth/Assets                                         6819 non-null   float64\n",
      " 39   Long-term fund suitability ratio (A)                     6819 non-null   float64\n",
      " 40   Borrowing dependency                                     6819 non-null   float64\n",
      " 41   Contingent liabilities/Net worth                         6819 non-null   float64\n",
      " 42   Operating profit/Paid-in capital                         6819 non-null   float64\n",
      " 43   Net profit before tax/Paid-in capital                    6819 non-null   float64\n",
      " 44   Inventory and accounts receivable/Net value              6819 non-null   float64\n",
      " 45   Total Asset Turnover                                     6819 non-null   float64\n",
      " 46   Accounts Receivable Turnover                             6819 non-null   float64\n",
      " 47   Average Collection Days                                  6819 non-null   float64\n",
      " 48   Inventory Turnover Rate (times)                          6819 non-null   float64\n",
      " 49   Fixed Assets Turnover Frequency                          6819 non-null   float64\n",
      " 50   Net Worth Turnover Rate (times)                          6819 non-null   float64\n",
      " 51   Revenue per person                                       6819 non-null   float64\n",
      " 52   Operating profit per person                              6819 non-null   float64\n",
      " 53   Allocation rate per person                               6819 non-null   float64\n",
      " 54   Working Capital to Total Assets                          6819 non-null   float64\n",
      " 55   Quick Assets/Total Assets                                6819 non-null   float64\n",
      " 56   Current Assets/Total Assets                              6819 non-null   float64\n",
      " 57   Cash/Total Assets                                        6819 non-null   float64\n",
      " 58   Quick Assets/Current Liability                           6819 non-null   float64\n",
      " 59   Cash/Current Liability                                   6819 non-null   float64\n",
      " 60   Current Liability to Assets                              6819 non-null   float64\n",
      " 61   Operating Funds to Liability                             6819 non-null   float64\n",
      " 62   Inventory/Working Capital                                6819 non-null   float64\n",
      " 63   Inventory/Current Liability                              6819 non-null   float64\n",
      " 64   Current Liabilities/Liability                            6819 non-null   float64\n",
      " 65   Working Capital/Equity                                   6819 non-null   float64\n",
      " 66   Current Liabilities/Equity                               6819 non-null   float64\n",
      " 67   Long-term Liability to Current Assets                    6819 non-null   float64\n",
      " 68   Retained Earnings to Total Assets                        6819 non-null   float64\n",
      " 69   Total income/Total expense                               6819 non-null   float64\n",
      " 70   Total expense/Assets                                     6819 non-null   float64\n",
      " 71   Current Asset Turnover Rate                              6819 non-null   float64\n",
      " 72   Quick Asset Turnover Rate                                6819 non-null   float64\n",
      " 73   Working capitcal Turnover Rate                           6819 non-null   float64\n",
      " 74   Cash Turnover Rate                                       6819 non-null   float64\n",
      " 75   Cash Flow to Sales                                       6819 non-null   float64\n",
      " 76   Fixed Assets to Assets                                   6819 non-null   float64\n",
      " 77   Current Liability to Liability                           6819 non-null   float64\n",
      " 78   Current Liability to Equity                              6819 non-null   float64\n",
      " 79   Equity to Long-term Liability                            6819 non-null   float64\n",
      " 80   Cash Flow to Total Assets                                6819 non-null   float64\n",
      " 81   Cash Flow to Liability                                   6819 non-null   float64\n",
      " 82   CFO to Assets                                            6819 non-null   float64\n",
      " 83   Cash Flow to Equity                                      6819 non-null   float64\n",
      " 84   Current Liability to Current Assets                      6819 non-null   float64\n",
      " 85   Liability-Assets Flag                                    6819 non-null   int64  \n",
      " 86   Net Income to Total Assets                               6819 non-null   float64\n",
      " 87   Total assets to GNP price                                6819 non-null   float64\n",
      " 88   No-credit Interval                                       6819 non-null   float64\n",
      " 89   Gross Profit to Sales                                    6819 non-null   float64\n",
      " 90   Net Income to Stockholder's Equity                       6819 non-null   float64\n",
      " 91   Liability to Equity                                      6819 non-null   float64\n",
      " 92   Degree of Financial Leverage (DFL)                       6819 non-null   float64\n",
      " 93   Interest Coverage Ratio (Interest expense to EBIT)       6819 non-null   float64\n",
      " 94   Net Income Flag                                          6819 non-null   int64  \n",
      " 95   Equity to Liability                                      6819 non-null   float64\n",
      "dtypes: float64(93), int64(3)\n",
      "memory usage: 5.0 MB\n"
     ]
    }
   ],
   "source": [
    "brDf.info()"
   ]
  },
  {
   "cell_type": "markdown",
   "id": "a40219e8",
   "metadata": {},
   "source": [
    "### Checking for missing data\n"
   ]
  },
  {
   "cell_type": "code",
   "execution_count": 40,
   "id": "5d264185",
   "metadata": {},
   "outputs": [
    {
     "name": "stdout",
     "output_type": "stream",
     "text": [
      "missing data among all columns: 0\n"
     ]
    }
   ],
   "source": [
    "print(f\"missing data among all columns: {brDf.isnull().sum().sum()}\")"
   ]
  },
  {
   "cell_type": "markdown",
   "id": "4624cae6",
   "metadata": {},
   "source": [
    "### Checking for duplicates"
   ]
  },
  {
   "cell_type": "code",
   "execution_count": 41,
   "id": "768c286f",
   "metadata": {},
   "outputs": [
    {
     "name": "stdout",
     "output_type": "stream",
     "text": [
      "duplicated data among columns:\n"
     ]
    },
    {
     "data": {
      "text/plain": [
       "False    6819\n",
       "dtype: int64"
      ]
     },
     "execution_count": 41,
     "metadata": {},
     "output_type": "execute_result"
    }
   ],
   "source": [
    "print(\"duplicated data among columns:\")\n",
    "brDf.duplicated().value_counts()"
   ]
  },
  {
   "cell_type": "markdown",
   "id": "a9323fc6",
   "metadata": {},
   "source": [
    "## Visualisation\n",
    "To have a better perspective on how the other features correlate with the bankrupt state, I decided to use a heatmap. Even though these are quite alot of features to be visualised on a heatmap, I believe it is the easiest and a very quick way of manually detecting corelations to choose features for the modeling.\n",
    "\n",
    "Creating one with all the features would result in something like this:"
   ]
  },
  {
   "cell_type": "code",
   "execution_count": 42,
   "id": "ce2e676a",
   "metadata": {},
   "outputs": [
    {
     "data": {
      "text/plain": [
       "<AxesSubplot:>"
      ]
     },
     "execution_count": 42,
     "metadata": {},
     "output_type": "execute_result"
    },
    {
     "data": {
      "image/png": "[encoded data removed]",
      "text/plain": [
       "<Figure size 432x288 with 2 Axes>"
      ]
     },
     "metadata": {
      "needs_background": "light"
     },
     "output_type": "display_data"
    }
   ],
   "source": [
    "sns.heatmap(brDf.corr(), linewidths=.5)"
   ]
  },
  {
   "cell_type": "markdown",
   "id": "0e34c235",
   "metadata": {},
   "source": [
    "This heatmap can be defined as unreadable so I decided to remove all the corelations lower than 0.2 and chose from them.\n",
    "\n",
    "It will be splitted in two graphs with negative and positive since it is easier programming-wise.\n",
    "I will start with negative correlations."
   ]
  },
  {
   "cell_type": "code",
   "execution_count": 43,
   "id": "7e767a2a",
   "metadata": {
    "scrolled": false
   },
   "outputs": [
    {
     "data": {
      "text/plain": [
       "<AxesSubplot:>"
      ]
     },
     "execution_count": 43,
     "metadata": {},
     "output_type": "execute_result"
    },
    {
     "data": {
      "image/png": "[encoded data removed]",
      "text/plain": [
       "<Figure size 720x144 with 2 Axes>"
      ]
     },
     "metadata": {
      "needs_background": "light"
     },
     "output_type": "display_data"
    }
   ],
   "source": [
    "fig, ax = plt.subplots(figsize=(10,2))\n",
    "df_corr = brDf.corr().loc[:,brDf.columns.intersection(['Bankrupt?'])]\n",
    "negative_corr = df_corr[df_corr['Bankrupt?'] < -0.2]\n",
    "sns.heatmap(negative_corr.T, linewidths=.5, ax = ax, annot = True)\n"
   ]
  },
  {
   "cell_type": "markdown",
   "id": "33ff71b4",
   "metadata": {},
   "source": [
    "In this case the darker the colors are, the better. \n",
    "\n",
    "Now I will generate one with positive correlations."
   ]
  },
  {
   "cell_type": "code",
   "execution_count": 44,
   "id": "e8651c41",
   "metadata": {},
   "outputs": [
    {
     "data": {
      "text/plain": [
       "<AxesSubplot:>"
      ]
     },
     "execution_count": 44,
     "metadata": {},
     "output_type": "execute_result"
    },
    {
     "data": {
      "text/plain": [
       "<Figure size 432x288 with 0 Axes>"
      ]
     },
     "metadata": {},
     "output_type": "display_data"
    },
    {
     "data": {
      "image/png": "[encoded data removed]",
      "text/plain": [
       "<Figure size 720x144 with 2 Axes>"
      ]
     },
     "metadata": {
      "needs_background": "light"
     },
     "output_type": "display_data"
    }
   ],
   "source": [
    "plt.clf()\n",
    "fig, ax = plt.subplots(figsize=(10,2))\n",
    "positive_corr = df_corr[df_corr['Bankrupt?'] > 0.2]\n",
    "sns.heatmap(positive_corr.T, linewidths=.5, ax = ax, annot = True)"
   ]
  },
  {
   "cell_type": "markdown",
   "id": "c90d2051",
   "metadata": {},
   "source": [
    "Here we can see that the feature that the specialist I consulted mentioned has the highest positive correlation."
   ]
  },
  {
   "cell_type": "markdown",
   "id": "3837c145",
   "metadata": {},
   "source": [
    "Indeed the correlations are not high, but using them all together can give a worthy result."
   ]
  },
  {
   "cell_type": "code",
   "execution_count": 45,
   "id": "b5aef24c",
   "metadata": {},
   "outputs": [],
   "source": [
    "from sklearn.preprocessing import StandardScaler\n",
    "from sklearn.model_selection import train_test_split\n",
    "from sklearn.svm import SVC\n",
    "from sklearn import metrics\n",
    "from sklearn.metrics import classification_report\n",
    "from sklearn.neighbors import KNeighborsClassifier\n",
    "from sklearn.metrics import accuracy_score"
   ]
  },
  {
   "cell_type": "markdown",
   "id": "1a7faf11",
   "metadata": {},
   "source": [
    "## Splitting data\n",
    "\n",
    "From the heatmap, I chose five features that corelate the most. (Net Income to Total Assets, Net worth/Assets, ROA(B) before interest and depreciation after tax, Current Liability to Assets, Debt ratio). They match my earlier intetions while choosing the dataset.\n",
    "\n",
    "This data will be used in the first three iterations."
   ]
  },
  {
   "cell_type": "code",
   "execution_count": 46,
   "id": "3d3e8b93",
   "metadata": {
    "scrolled": false
   },
   "outputs": [
    {
     "data": {
      "text/plain": [
       "<matplotlib.collections.PathCollection at 0x7f84cd264490>"
      ]
     },
     "execution_count": 46,
     "metadata": {},
     "output_type": "execute_result"
    },
    {
     "data": {
      "image/png": "[encoded data removed]",
      "text/plain": [
       "<Figure size 432x288 with 1 Axes>"
      ]
     },
     "metadata": {
      "needs_background": "light"
     },
     "output_type": "display_data"
    }
   ],
   "source": [
    "# Normalize\n",
    "df_forscale = brDf[[' Net Income to Total Assets', ' Net worth/Assets', ' ROA(B) before interest and depreciation after tax',' Current Liability to Assets',' Debt ratio %']]\n",
    "scaler_brankrupt = StandardScaler().fit(brDf.loc[:,df_forscale.columns])\n",
    "scaled = scaler_brankrupt.transform(brDf.loc[:,df_forscale.columns])\n",
    "\n",
    "X_train, X_test, y_train, y_test = train_test_split(scaled, brDf['Bankrupt?'],test_size=0.25 , random_state=42)\n",
    "plt.scatter(X_train[:,0], X_train[:,1], edgecolors='k', c=y_train)"
   ]
  },
  {
   "cell_type": "markdown",
   "id": "9874449a",
   "metadata": {},
   "source": [
    "# Modeling Iterations\n",
    "\n",
    "Since different approaches give different results, I ended up doing multiple iterations to get the best possible answers. These Iterations include different usage of models and data preparation."
   ]
  },
  {
   "cell_type": "markdown",
   "id": "33381eba",
   "metadata": {},
   "source": [
    "\n",
    "## Iteration 1\n",
    "\n",
    "To start I will try to predict by using a kNN classifier since it is the fastest and the easiest."
   ]
  },
  {
   "cell_type": "markdown",
   "id": "9a7ec188",
   "metadata": {},
   "source": [
    "### Modeling"
   ]
  },
  {
   "cell_type": "code",
   "execution_count": 47,
   "id": "1e2a93c3",
   "metadata": {},
   "outputs": [],
   "source": [
    "model_1 = KNeighborsClassifier(5)\n",
    "model_1.fit(X_train, y_train)\n",
    "pred_1 = model_1.predict(X_test)"
   ]
  },
  {
   "cell_type": "markdown",
   "id": "12a23f94",
   "metadata": {},
   "source": [
    "### Evaluation"
   ]
  },
  {
   "cell_type": "code",
   "execution_count": 48,
   "id": "43c202b5",
   "metadata": {},
   "outputs": [
    {
     "name": "stdout",
     "output_type": "stream",
     "text": [
      "              precision    recall  f1-score   support\n",
      "\n",
      "           0       0.97      0.99      0.98      1647\n",
      "           1       0.50      0.21      0.29        58\n",
      "\n",
      "    accuracy                           0.97      1705\n",
      "   macro avg       0.74      0.60      0.64      1705\n",
      "weighted avg       0.96      0.97      0.96      1705\n",
      "\n"
     ]
    }
   ],
   "source": [
    "print(classification_report(y_test, pred_1))"
   ]
  },
  {
   "cell_type": "markdown",
   "id": "b3df9daf",
   "metadata": {},
   "source": [
    "The precision is 50%, which it basically means that the model choses fully randomly, maybe I should change the modeling algorithm."
   ]
  },
  {
   "cell_type": "markdown",
   "id": "23fe6b0e",
   "metadata": {},
   "source": [
    "## Iteration 2"
   ]
  },
  {
   "cell_type": "markdown",
   "id": "3c69ae9a",
   "metadata": {},
   "source": [
    "### Modeling\n",
    "\n",
    "This time I chose SVC, because it is often works nicely when used for classification, it is known for producing high accuracy and also for being decently fast. I will use the standard kernel 'rbf'."
   ]
  },
  {
   "cell_type": "code",
   "execution_count": 49,
   "id": "d4727147",
   "metadata": {},
   "outputs": [
    {
     "name": "stdout",
     "output_type": "stream",
     "text": [
      "0.967741935483871\n"
     ]
    }
   ],
   "source": [
    "model_2 = SVC(kernel = 'rbf')\n",
    "model_2.fit(X_train, y_train)\n",
    "pred_2 = model_2.predict(X_test)\n",
    "\n",
    "acc_2 = accuracy_score(pred_2, y_test)\n",
    "\n",
    "print(acc_2)"
   ]
  },
  {
   "cell_type": "markdown",
   "id": "88c0a66d",
   "metadata": {},
   "source": [
    "### Evaluation"
   ]
  },
  {
   "cell_type": "code",
   "execution_count": 50,
   "id": "c5e28209",
   "metadata": {},
   "outputs": [
    {
     "name": "stdout",
     "output_type": "stream",
     "text": [
      "              precision    recall  f1-score   support\n",
      "\n",
      "           0       0.97      1.00      0.98      1647\n",
      "           1       0.80      0.07      0.13        58\n",
      "\n",
      "    accuracy                           0.97      1705\n",
      "   macro avg       0.88      0.53      0.56      1705\n",
      "weighted avg       0.96      0.97      0.95      1705\n",
      "\n"
     ]
    }
   ],
   "source": [
    "print(classification_report(y_test, pred_2))"
   ]
  },
  {
   "cell_type": "markdown",
   "id": "92efb6f8",
   "metadata": {},
   "source": [
    "I find the precision decent, but the recall is pretty low. I will keep going with SVC, but maybe I should experiment more with the kernels."
   ]
  },
  {
   "cell_type": "markdown",
   "id": "382e8984",
   "metadata": {},
   "source": [
    "## Iteration 3"
   ]
  },
  {
   "cell_type": "markdown",
   "id": "5c6c9650",
   "metadata": {},
   "source": [
    "### Modeling\n",
    "\n",
    "The polynominal kernel is similar to rbf, but it creates the plane diffirently which might end up in a different result."
   ]
  },
  {
   "cell_type": "code",
   "execution_count": 51,
   "id": "827cade8",
   "metadata": {},
   "outputs": [
    {
     "name": "stdout",
     "output_type": "stream",
     "text": [
      "0.967741935483871\n"
     ]
    }
   ],
   "source": [
    "model_3 = SVC(kernel = 'poly')\n",
    "model_3.fit(X_train, y_train)\n",
    "pred_3 = model_3.predict(X_test)\n",
    "\n",
    "from sklearn.metrics import accuracy_score\n",
    "acc_3 = accuracy_score(pred_3, y_test)\n",
    "\n",
    "print(acc_3)"
   ]
  },
  {
   "cell_type": "markdown",
   "id": "85e690c9",
   "metadata": {},
   "source": [
    "### Evaluation"
   ]
  },
  {
   "cell_type": "code",
   "execution_count": 52,
   "id": "604ae233",
   "metadata": {},
   "outputs": [
    {
     "name": "stdout",
     "output_type": "stream",
     "text": [
      "              precision    recall  f1-score   support\n",
      "\n",
      "           0       0.97      1.00      0.98      1647\n",
      "           1       1.00      0.05      0.10        58\n",
      "\n",
      "    accuracy                           0.97      1705\n",
      "   macro avg       0.98      0.53      0.54      1705\n",
      "weighted avg       0.97      0.97      0.95      1705\n",
      "\n"
     ]
    }
   ],
   "source": [
    "print(classification_report(y_test, pred_3))"
   ]
  },
  {
   "cell_type": "markdown",
   "id": "8f8910a7",
   "metadata": {},
   "source": [
    "There is indeed an increase in precision, but the recall is not very presentable."
   ]
  },
  {
   "cell_type": "markdown",
   "id": "198800a6",
   "metadata": {},
   "source": [
    "## Conlcusion"
   ]
  },
  {
   "cell_type": "markdown",
   "id": "460e131d",
   "metadata": {},
   "source": [
    "The model gave a 25% increase in precision, but the recall is pretty low giving me a 10% f1 score which is not what I aimed for. Also, I am not satisfied by the confusion matrix results which asks for a new iteration."
   ]
  },
  {
   "cell_type": "markdown",
   "id": "8fc62184",
   "metadata": {},
   "source": [
    "## Iteration 4"
   ]
  },
  {
   "cell_type": "markdown",
   "id": "7ee22bb4",
   "metadata": {},
   "source": [
    "## Preprocessing\n",
    "\n",
    "After consulting with my Machine Learning mentor (Bas), I decided I would take a look in the column to see the difference in the number of bankrupt and non-bankrupt data."
   ]
  },
  {
   "cell_type": "code",
   "execution_count": 54,
   "id": "42a18eac",
   "metadata": {},
   "outputs": [
    {
     "data": {
      "text/plain": [
       "0    6599\n",
       "1     220\n",
       "Name: Bankrupt?, dtype: int64"
      ]
     },
     "execution_count": 54,
     "metadata": {},
     "output_type": "execute_result"
    },
    {
     "data": {
      "image/png": "[encoded data removed]",
      "text/plain": [
       "<Figure size 432x288 with 1 Axes>"
      ]
     },
     "metadata": {
      "needs_background": "light"
     },
     "output_type": "display_data"
    }
   ],
   "source": [
    "df_count = brDf['Bankrupt?'].value_counts()\n",
    "sns.countplot(x = 'Bankrupt?', data = brDf)\n",
    "df_count"
   ]
  },
  {
   "cell_type": "markdown",
   "id": "180c3ed5",
   "metadata": {},
   "source": [
    "Indeed, the difference is huge. I will try to equalize the numbers by cutting off random non-bankrupt ones."
   ]
  },
  {
   "cell_type": "code",
   "execution_count": 55,
   "id": "822b9759",
   "metadata": {},
   "outputs": [
    {
     "data": {
      "text/plain": [
       "1    220\n",
       "0    220\n",
       "Name: Bankrupt?, dtype: int64"
      ]
     },
     "execution_count": 55,
     "metadata": {},
     "output_type": "execute_result"
    },
    {
     "data": {
      "image/png": "[encoded data removed]",
      "text/plain": [
       "<Figure size 432x288 with 1 Axes>"
      ]
     },
     "metadata": {
      "needs_background": "light"
     },
     "output_type": "display_data"
    }
   ],
   "source": [
    "drop_indices = np.random.choice(brDf['Bankrupt?'].loc[lambda x: x==0].index, 6379, replace=False)\n",
    "df_subset = brDf.drop(drop_indices)\n",
    "df_subset = df_subset.reset_index()\n",
    "\n",
    "df_subset_count = df_subset['Bankrupt?'].value_counts()\n",
    "sns.countplot(x = 'Bankrupt?', data = df_subset)\n",
    "df_subset_count"
   ]
  },
  {
   "cell_type": "markdown",
   "id": "9d0a7cc0",
   "metadata": {},
   "source": [
    "### Splitting the data\n",
    "I will keep the same features."
   ]
  },
  {
   "cell_type": "code",
   "execution_count": 56,
   "id": "e9acd0dd",
   "metadata": {},
   "outputs": [
    {
     "data": {
      "text/html": [
       "<div>\n",
       "<style scoped>\n",
       "    .dataframe tbody tr th:only-of-type {\n",
       "        vertical-align: middle;\n",
       "    }\n",
       "\n",
       "    .dataframe tbody tr th {\n",
       "        vertical-align: top;\n",
       "    }\n",
       "\n",
       "    .dataframe thead th {\n",
       "        text-align: right;\n",
       "    }\n",
       "</style>\n",
       "<table border=\"1\" class=\"dataframe\">\n",
       "  <thead>\n",
       "    <tr style=\"text-align: right;\">\n",
       "      <th></th>\n",
       "      <th>index</th>\n",
       "      <th>Bankrupt?</th>\n",
       "      <th>ROA(C) before interest and depreciation before interest</th>\n",
       "      <th>ROA(A) before interest and % after tax</th>\n",
       "      <th>ROA(B) before interest and depreciation after tax</th>\n",
       "      <th>Operating Gross Margin</th>\n",
       "      <th>Realized Sales Gross Margin</th>\n",
       "      <th>Operating Profit Rate</th>\n",
       "      <th>Pre-tax net Interest Rate</th>\n",
       "      <th>After-tax net Interest Rate</th>\n",
       "      <th>...</th>\n",
       "      <th>Net Income to Total Assets</th>\n",
       "      <th>Total assets to GNP price</th>\n",
       "      <th>No-credit Interval</th>\n",
       "      <th>Gross Profit to Sales</th>\n",
       "      <th>Net Income to Stockholder's Equity</th>\n",
       "      <th>Liability to Equity</th>\n",
       "      <th>Degree of Financial Leverage (DFL)</th>\n",
       "      <th>Interest Coverage Ratio (Interest expense to EBIT)</th>\n",
       "      <th>Net Income Flag</th>\n",
       "      <th>Equity to Liability</th>\n",
       "    </tr>\n",
       "  </thead>\n",
       "  <tbody>\n",
       "    <tr>\n",
       "      <th>0</th>\n",
       "      <td>0</td>\n",
       "      <td>1</td>\n",
       "      <td>0.370594</td>\n",
       "      <td>0.424389</td>\n",
       "      <td>0.405750</td>\n",
       "      <td>0.601457</td>\n",
       "      <td>0.601457</td>\n",
       "      <td>0.998969</td>\n",
       "      <td>0.796887</td>\n",
       "      <td>0.808809</td>\n",
       "      <td>...</td>\n",
       "      <td>0.716845</td>\n",
       "      <td>0.009219</td>\n",
       "      <td>0.622879</td>\n",
       "      <td>0.601453</td>\n",
       "      <td>0.827890</td>\n",
       "      <td>0.290202</td>\n",
       "      <td>0.026601</td>\n",
       "      <td>0.564050</td>\n",
       "      <td>1</td>\n",
       "      <td>0.016469</td>\n",
       "    </tr>\n",
       "    <tr>\n",
       "      <th>1</th>\n",
       "      <td>1</td>\n",
       "      <td>1</td>\n",
       "      <td>0.464291</td>\n",
       "      <td>0.538214</td>\n",
       "      <td>0.516730</td>\n",
       "      <td>0.610235</td>\n",
       "      <td>0.610235</td>\n",
       "      <td>0.998946</td>\n",
       "      <td>0.797380</td>\n",
       "      <td>0.809301</td>\n",
       "      <td>...</td>\n",
       "      <td>0.795297</td>\n",
       "      <td>0.008323</td>\n",
       "      <td>0.623652</td>\n",
       "      <td>0.610237</td>\n",
       "      <td>0.839969</td>\n",
       "      <td>0.283846</td>\n",
       "      <td>0.264577</td>\n",
       "      <td>0.570175</td>\n",
       "      <td>1</td>\n",
       "      <td>0.020794</td>\n",
       "    </tr>\n",
       "    <tr>\n",
       "      <th>2</th>\n",
       "      <td>2</td>\n",
       "      <td>1</td>\n",
       "      <td>0.426071</td>\n",
       "      <td>0.499019</td>\n",
       "      <td>0.472295</td>\n",
       "      <td>0.601450</td>\n",
       "      <td>0.601364</td>\n",
       "      <td>0.998857</td>\n",
       "      <td>0.796403</td>\n",
       "      <td>0.808388</td>\n",
       "      <td>...</td>\n",
       "      <td>0.774670</td>\n",
       "      <td>0.040003</td>\n",
       "      <td>0.623841</td>\n",
       "      <td>0.601449</td>\n",
       "      <td>0.836774</td>\n",
       "      <td>0.290189</td>\n",
       "      <td>0.026555</td>\n",
       "      <td>0.563706</td>\n",
       "      <td>1</td>\n",
       "      <td>0.016474</td>\n",
       "    </tr>\n",
       "    <tr>\n",
       "      <th>3</th>\n",
       "      <td>3</td>\n",
       "      <td>1</td>\n",
       "      <td>0.399844</td>\n",
       "      <td>0.451265</td>\n",
       "      <td>0.457733</td>\n",
       "      <td>0.583541</td>\n",
       "      <td>0.583541</td>\n",
       "      <td>0.998700</td>\n",
       "      <td>0.796967</td>\n",
       "      <td>0.808966</td>\n",
       "      <td>...</td>\n",
       "      <td>0.739555</td>\n",
       "      <td>0.003252</td>\n",
       "      <td>0.622929</td>\n",
       "      <td>0.583538</td>\n",
       "      <td>0.834697</td>\n",
       "      <td>0.281721</td>\n",
       "      <td>0.026697</td>\n",
       "      <td>0.564663</td>\n",
       "      <td>1</td>\n",
       "      <td>0.023982</td>\n",
       "    </tr>\n",
       "    <tr>\n",
       "      <th>4</th>\n",
       "      <td>4</td>\n",
       "      <td>1</td>\n",
       "      <td>0.465022</td>\n",
       "      <td>0.538432</td>\n",
       "      <td>0.522298</td>\n",
       "      <td>0.598783</td>\n",
       "      <td>0.598783</td>\n",
       "      <td>0.998973</td>\n",
       "      <td>0.797366</td>\n",
       "      <td>0.809304</td>\n",
       "      <td>...</td>\n",
       "      <td>0.795016</td>\n",
       "      <td>0.003878</td>\n",
       "      <td>0.623521</td>\n",
       "      <td>0.598782</td>\n",
       "      <td>0.839973</td>\n",
       "      <td>0.278514</td>\n",
       "      <td>0.024752</td>\n",
       "      <td>0.575617</td>\n",
       "      <td>1</td>\n",
       "      <td>0.035490</td>\n",
       "    </tr>\n",
       "    <tr>\n",
       "      <th>...</th>\n",
       "      <td>...</td>\n",
       "      <td>...</td>\n",
       "      <td>...</td>\n",
       "      <td>...</td>\n",
       "      <td>...</td>\n",
       "      <td>...</td>\n",
       "      <td>...</td>\n",
       "      <td>...</td>\n",
       "      <td>...</td>\n",
       "      <td>...</td>\n",
       "      <td>...</td>\n",
       "      <td>...</td>\n",
       "      <td>...</td>\n",
       "      <td>...</td>\n",
       "      <td>...</td>\n",
       "      <td>...</td>\n",
       "      <td>...</td>\n",
       "      <td>...</td>\n",
       "      <td>...</td>\n",
       "      <td>...</td>\n",
       "      <td>...</td>\n",
       "    </tr>\n",
       "    <tr>\n",
       "      <th>435</th>\n",
       "      <td>6668</td>\n",
       "      <td>0</td>\n",
       "      <td>0.623653</td>\n",
       "      <td>0.671827</td>\n",
       "      <td>0.657905</td>\n",
       "      <td>0.637102</td>\n",
       "      <td>0.637102</td>\n",
       "      <td>0.999344</td>\n",
       "      <td>0.797950</td>\n",
       "      <td>0.809738</td>\n",
       "      <td>...</td>\n",
       "      <td>0.875581</td>\n",
       "      <td>0.000898</td>\n",
       "      <td>0.624010</td>\n",
       "      <td>0.637101</td>\n",
       "      <td>0.844407</td>\n",
       "      <td>0.275970</td>\n",
       "      <td>0.026791</td>\n",
       "      <td>0.565158</td>\n",
       "      <td>1</td>\n",
       "      <td>0.085352</td>\n",
       "    </tr>\n",
       "    <tr>\n",
       "      <th>436</th>\n",
       "      <td>6728</td>\n",
       "      <td>1</td>\n",
       "      <td>0.492176</td>\n",
       "      <td>0.544320</td>\n",
       "      <td>0.533326</td>\n",
       "      <td>0.618105</td>\n",
       "      <td>0.618105</td>\n",
       "      <td>0.999083</td>\n",
       "      <td>0.797456</td>\n",
       "      <td>0.809338</td>\n",
       "      <td>...</td>\n",
       "      <td>0.800780</td>\n",
       "      <td>0.000517</td>\n",
       "      <td>0.623737</td>\n",
       "      <td>0.618104</td>\n",
       "      <td>0.840533</td>\n",
       "      <td>0.282763</td>\n",
       "      <td>0.027033</td>\n",
       "      <td>0.566098</td>\n",
       "      <td>1</td>\n",
       "      <td>0.022209</td>\n",
       "    </tr>\n",
       "    <tr>\n",
       "      <th>437</th>\n",
       "      <td>6740</td>\n",
       "      <td>0</td>\n",
       "      <td>0.525130</td>\n",
       "      <td>0.589839</td>\n",
       "      <td>0.575941</td>\n",
       "      <td>0.607943</td>\n",
       "      <td>0.607979</td>\n",
       "      <td>0.999094</td>\n",
       "      <td>0.797534</td>\n",
       "      <td>0.809437</td>\n",
       "      <td>...</td>\n",
       "      <td>0.828175</td>\n",
       "      <td>0.004590</td>\n",
       "      <td>0.623310</td>\n",
       "      <td>0.607944</td>\n",
       "      <td>0.842725</td>\n",
       "      <td>0.280072</td>\n",
       "      <td>0.026793</td>\n",
       "      <td>0.565168</td>\n",
       "      <td>1</td>\n",
       "      <td>0.028190</td>\n",
       "    </tr>\n",
       "    <tr>\n",
       "      <th>438</th>\n",
       "      <td>6747</td>\n",
       "      <td>0</td>\n",
       "      <td>0.540828</td>\n",
       "      <td>0.599706</td>\n",
       "      <td>0.583918</td>\n",
       "      <td>0.608513</td>\n",
       "      <td>0.608498</td>\n",
       "      <td>0.999130</td>\n",
       "      <td>0.797551</td>\n",
       "      <td>0.809437</td>\n",
       "      <td>...</td>\n",
       "      <td>0.830563</td>\n",
       "      <td>0.004841</td>\n",
       "      <td>0.624039</td>\n",
       "      <td>0.608513</td>\n",
       "      <td>0.842610</td>\n",
       "      <td>0.278766</td>\n",
       "      <td>0.026812</td>\n",
       "      <td>0.565254</td>\n",
       "      <td>1</td>\n",
       "      <td>0.033930</td>\n",
       "    </tr>\n",
       "    <tr>\n",
       "      <th>439</th>\n",
       "      <td>6753</td>\n",
       "      <td>0</td>\n",
       "      <td>0.584849</td>\n",
       "      <td>0.652584</td>\n",
       "      <td>0.637936</td>\n",
       "      <td>0.621780</td>\n",
       "      <td>0.621780</td>\n",
       "      <td>0.999208</td>\n",
       "      <td>0.797689</td>\n",
       "      <td>0.809574</td>\n",
       "      <td>...</td>\n",
       "      <td>0.853173</td>\n",
       "      <td>0.000982</td>\n",
       "      <td>0.623640</td>\n",
       "      <td>0.621780</td>\n",
       "      <td>0.847107</td>\n",
       "      <td>0.285862</td>\n",
       "      <td>0.026791</td>\n",
       "      <td>0.565158</td>\n",
       "      <td>1</td>\n",
       "      <td>0.018890</td>\n",
       "    </tr>\n",
       "  </tbody>\n",
       "</table>\n",
       "<p>440 rows × 97 columns</p>\n",
       "</div>"
      ],
      "text/plain": [
       "     index  Bankrupt?  \\\n",
       "0        0          1   \n",
       "1        1          1   \n",
       "2        2          1   \n",
       "3        3          1   \n",
       "4        4          1   \n",
       "..     ...        ...   \n",
       "435   6668          0   \n",
       "436   6728          1   \n",
       "437   6740          0   \n",
       "438   6747          0   \n",
       "439   6753          0   \n",
       "\n",
       "      ROA(C) before interest and depreciation before interest  \\\n",
       "0                                             0.370594          \n",
       "1                                             0.464291          \n",
       "2                                             0.426071          \n",
       "3                                             0.399844          \n",
       "4                                             0.465022          \n",
       "..                                                 ...          \n",
       "435                                           0.623653          \n",
       "436                                           0.492176          \n",
       "437                                           0.525130          \n",
       "438                                           0.540828          \n",
       "439                                           0.584849          \n",
       "\n",
       "      ROA(A) before interest and % after tax  \\\n",
       "0                                   0.424389   \n",
       "1                                   0.538214   \n",
       "2                                   0.499019   \n",
       "3                                   0.451265   \n",
       "4                                   0.538432   \n",
       "..                                       ...   \n",
       "435                                 0.671827   \n",
       "436                                 0.544320   \n",
       "437                                 0.589839   \n",
       "438                                 0.599706   \n",
       "439                                 0.652584   \n",
       "\n",
       "      ROA(B) before interest and depreciation after tax  \\\n",
       "0                                             0.405750    \n",
       "1                                             0.516730    \n",
       "2                                             0.472295    \n",
       "3                                             0.457733    \n",
       "4                                             0.522298    \n",
       "..                                                 ...    \n",
       "435                                           0.657905    \n",
       "436                                           0.533326    \n",
       "437                                           0.575941    \n",
       "438                                           0.583918    \n",
       "439                                           0.637936    \n",
       "\n",
       "      Operating Gross Margin   Realized Sales Gross Margin  \\\n",
       "0                   0.601457                      0.601457   \n",
       "1                   0.610235                      0.610235   \n",
       "2                   0.601450                      0.601364   \n",
       "3                   0.583541                      0.583541   \n",
       "4                   0.598783                      0.598783   \n",
       "..                       ...                           ...   \n",
       "435                 0.637102                      0.637102   \n",
       "436                 0.618105                      0.618105   \n",
       "437                 0.607943                      0.607979   \n",
       "438                 0.608513                      0.608498   \n",
       "439                 0.621780                      0.621780   \n",
       "\n",
       "      Operating Profit Rate   Pre-tax net Interest Rate  \\\n",
       "0                  0.998969                    0.796887   \n",
       "1                  0.998946                    0.797380   \n",
       "2                  0.998857                    0.796403   \n",
       "3                  0.998700                    0.796967   \n",
       "4                  0.998973                    0.797366   \n",
       "..                      ...                         ...   \n",
       "435                0.999344                    0.797950   \n",
       "436                0.999083                    0.797456   \n",
       "437                0.999094                    0.797534   \n",
       "438                0.999130                    0.797551   \n",
       "439                0.999208                    0.797689   \n",
       "\n",
       "      After-tax net Interest Rate  ...   Net Income to Total Assets  \\\n",
       "0                        0.808809  ...                     0.716845   \n",
       "1                        0.809301  ...                     0.795297   \n",
       "2                        0.808388  ...                     0.774670   \n",
       "3                        0.808966  ...                     0.739555   \n",
       "4                        0.809304  ...                     0.795016   \n",
       "..                            ...  ...                          ...   \n",
       "435                      0.809738  ...                     0.875581   \n",
       "436                      0.809338  ...                     0.800780   \n",
       "437                      0.809437  ...                     0.828175   \n",
       "438                      0.809437  ...                     0.830563   \n",
       "439                      0.809574  ...                     0.853173   \n",
       "\n",
       "      Total assets to GNP price   No-credit Interval   Gross Profit to Sales  \\\n",
       "0                      0.009219             0.622879                0.601453   \n",
       "1                      0.008323             0.623652                0.610237   \n",
       "2                      0.040003             0.623841                0.601449   \n",
       "3                      0.003252             0.622929                0.583538   \n",
       "4                      0.003878             0.623521                0.598782   \n",
       "..                          ...                  ...                     ...   \n",
       "435                    0.000898             0.624010                0.637101   \n",
       "436                    0.000517             0.623737                0.618104   \n",
       "437                    0.004590             0.623310                0.607944   \n",
       "438                    0.004841             0.624039                0.608513   \n",
       "439                    0.000982             0.623640                0.621780   \n",
       "\n",
       "      Net Income to Stockholder's Equity   Liability to Equity  \\\n",
       "0                               0.827890              0.290202   \n",
       "1                               0.839969              0.283846   \n",
       "2                               0.836774              0.290189   \n",
       "3                               0.834697              0.281721   \n",
       "4                               0.839973              0.278514   \n",
       "..                                   ...                   ...   \n",
       "435                             0.844407              0.275970   \n",
       "436                             0.840533              0.282763   \n",
       "437                             0.842725              0.280072   \n",
       "438                             0.842610              0.278766   \n",
       "439                             0.847107              0.285862   \n",
       "\n",
       "      Degree of Financial Leverage (DFL)  \\\n",
       "0                               0.026601   \n",
       "1                               0.264577   \n",
       "2                               0.026555   \n",
       "3                               0.026697   \n",
       "4                               0.024752   \n",
       "..                                   ...   \n",
       "435                             0.026791   \n",
       "436                             0.027033   \n",
       "437                             0.026793   \n",
       "438                             0.026812   \n",
       "439                             0.026791   \n",
       "\n",
       "      Interest Coverage Ratio (Interest expense to EBIT)   Net Income Flag  \\\n",
       "0                                             0.564050                   1   \n",
       "1                                             0.570175                   1   \n",
       "2                                             0.563706                   1   \n",
       "3                                             0.564663                   1   \n",
       "4                                             0.575617                   1   \n",
       "..                                                 ...                 ...   \n",
       "435                                           0.565158                   1   \n",
       "436                                           0.566098                   1   \n",
       "437                                           0.565168                   1   \n",
       "438                                           0.565254                   1   \n",
       "439                                           0.565158                   1   \n",
       "\n",
       "      Equity to Liability  \n",
       "0                0.016469  \n",
       "1                0.020794  \n",
       "2                0.016474  \n",
       "3                0.023982  \n",
       "4                0.035490  \n",
       "..                    ...  \n",
       "435              0.085352  \n",
       "436              0.022209  \n",
       "437              0.028190  \n",
       "438              0.033930  \n",
       "439              0.018890  \n",
       "\n",
       "[440 rows x 97 columns]"
      ]
     },
     "execution_count": 56,
     "metadata": {},
     "output_type": "execute_result"
    },
    {
     "data": {
      "image/png": "[encoded data removed]",
      "text/plain": [
       "<Figure size 432x288 with 1 Axes>"
      ]
     },
     "metadata": {
      "needs_background": "light"
     },
     "output_type": "display_data"
    }
   ],
   "source": [
    "df_forscale = df_subset[[' Net Income to Total Assets', ' Net worth/Assets', ' ROA(B) before interest and depreciation after tax',' Current Liability to Assets',' Debt ratio %']]\n",
    "scaler_brankrupt = StandardScaler().fit(df_subset.loc[:,df_forscale.columns])\n",
    "scaled = scaler_brankrupt.transform(df_subset.loc[:,df_forscale.columns])\n",
    "\n",
    "X_train_1, X_test_1, y_train_1, y_test_1 = train_test_split(scaled, df_subset['Bankrupt?'],test_size=0.25 , random_state=42)\n",
    "plt.scatter(X_train_1[:,0], X_train_1[:,1], edgecolors='k', c=y_train_1)\n",
    "df_subset"
   ]
  },
  {
   "cell_type": "markdown",
   "id": "82fc5f3f",
   "metadata": {},
   "source": [
    "## Modeling"
   ]
  },
  {
   "cell_type": "markdown",
   "id": "01190117",
   "metadata": {},
   "source": [
    "### KNN"
   ]
  },
  {
   "cell_type": "code",
   "execution_count": 82,
   "id": "810a72a1",
   "metadata": {},
   "outputs": [
    {
     "name": "stdout",
     "output_type": "stream",
     "text": [
      "0.8545454545454545\n"
     ]
    }
   ],
   "source": [
    "model_4 = KNeighborsClassifier(5)\n",
    "model_4.fit(X_train_1, y_train_1)\n",
    "pred_4 = model_4.predict(X_test_1)\n",
    "acc_4 = accuracy_score(y_test_1, pred_4_1)\n",
    "print(acc_4)"
   ]
  },
  {
   "cell_type": "markdown",
   "id": "ac34649d",
   "metadata": {},
   "source": [
    "### SVC Classic"
   ]
  },
  {
   "cell_type": "code",
   "execution_count": 74,
   "id": "4d50d872",
   "metadata": {},
   "outputs": [
    {
     "name": "stdout",
     "output_type": "stream",
     "text": [
      "0.8545454545454545\n"
     ]
    }
   ],
   "source": [
    "model_4_1 = SVC(kernel = 'rbf')\n",
    "model_4_1.fit(X_train_1, y_train_1)\n",
    "pred_4_1 = model_4_1.predict(X_test_1)\n",
    "acc_4_1 = accuracy_score(y_test_1, pred_4_1)\n",
    "print(acc_4_1)"
   ]
  },
  {
   "cell_type": "markdown",
   "id": "8978ec88",
   "metadata": {},
   "source": [
    "### SVC Poly"
   ]
  },
  {
   "cell_type": "code",
   "execution_count": 75,
   "id": "317abbc5",
   "metadata": {},
   "outputs": [
    {
     "name": "stdout",
     "output_type": "stream",
     "text": [
      "0.8818181818181818\n"
     ]
    }
   ],
   "source": [
    "model_4_2 = SVC(kernel = 'poly')\n",
    "model_4_2.fit(X_train_1, y_train_1)\n",
    "pred_4_2 = model_4_2.predict(X_test_1)\n",
    "acc_4_2 = accuracy_score(y_test_1, pred_4_2)\n",
    "print(acc_4_2)"
   ]
  },
  {
   "cell_type": "markdown",
   "id": "0b34e2c9",
   "metadata": {},
   "source": [
    "### SVC Sigmoid"
   ]
  },
  {
   "cell_type": "code",
   "execution_count": 91,
   "id": "934cd77a",
   "metadata": {},
   "outputs": [
    {
     "name": "stdout",
     "output_type": "stream",
     "text": [
      "0.8363636363636363\n"
     ]
    }
   ],
   "source": [
    "model_4_3 = SVC(kernel = 'sigmoid')\n",
    "model_4_3.fit(X_train_1, y_train_1)\n",
    "pred_4_3 = model_4_3.predict(X_test_1)\n",
    "acc_4_3 = accuracy_score(y_test_1, pred_4_3)\n",
    "print(acc_4_3)"
   ]
  },
  {
   "cell_type": "markdown",
   "id": "a1374371",
   "metadata": {},
   "source": [
    "## Evaluation"
   ]
  },
  {
   "cell_type": "code",
   "execution_count": 94,
   "id": "3e437765",
   "metadata": {},
   "outputs": [
    {
     "name": "stdout",
     "output_type": "stream",
     "text": [
      "              precision    recall  f1-score   support\n",
      "\n",
      "           0       0.83      0.85      0.84        52\n",
      "           1       0.86      0.84      0.85        58\n",
      "\n",
      "    accuracy                           0.85       110\n",
      "   macro avg       0.84      0.85      0.85       110\n",
      "weighted avg       0.85      0.85      0.85       110\n",
      "\n"
     ]
    }
   ],
   "source": [
    "print(classification_report(y_test_1, pred_4))"
   ]
  },
  {
   "cell_type": "code",
   "execution_count": 95,
   "id": "b252c37a",
   "metadata": {},
   "outputs": [
    {
     "name": "stdout",
     "output_type": "stream",
     "text": [
      "              precision    recall  f1-score   support\n",
      "\n",
      "           0       0.91      0.83      0.87        52\n",
      "           1       0.86      0.93      0.89        58\n",
      "\n",
      "    accuracy                           0.88       110\n",
      "   macro avg       0.89      0.88      0.88       110\n",
      "weighted avg       0.88      0.88      0.88       110\n",
      "\n"
     ]
    }
   ],
   "source": [
    "print(classification_report(y_test_1, pred_4_2))"
   ]
  },
  {
   "cell_type": "markdown",
   "id": "d7df4c29",
   "metadata": {},
   "source": [
    "An f1 score of 89 is indeed very good and I can go further."
   ]
  },
  {
   "cell_type": "markdown",
   "id": "feb4aee3",
   "metadata": {},
   "source": [
    "### Confusion matrix kNN"
   ]
  },
  {
   "cell_type": "code",
   "execution_count": 88,
   "id": "6966bbe6",
   "metadata": {},
   "outputs": [
    {
     "data": {
      "text/plain": [
       "<AxesSubplot:>"
      ]
     },
     "execution_count": 88,
     "metadata": {},
     "output_type": "execute_result"
    },
    {
     "data": {
      "image/png": "[encoded data removed]",
      "text/plain": [
       "<Figure size 432x288 with 1 Axes>"
      ]
     },
     "metadata": {
      "needs_background": "light"
     },
     "output_type": "display_data"
    }
   ],
   "source": [
    "from sklearn.metrics import confusion_matrix\n",
    "matrix = confusion_matrix(y_test_1, pred_4)\n",
    "sns.heatmap(matrix, annot=True, cbar=None)"
   ]
  },
  {
   "cell_type": "markdown",
   "id": "23efc75a",
   "metadata": {},
   "source": [
    "### Confusion matrix SVC Poly\n",
    "\n",
    "I chose this one over the others due to higher accuracy."
   ]
  },
  {
   "cell_type": "code",
   "execution_count": 89,
   "id": "42aa9214",
   "metadata": {},
   "outputs": [
    {
     "data": {
      "text/plain": [
       "<AxesSubplot:>"
      ]
     },
     "execution_count": 89,
     "metadata": {},
     "output_type": "execute_result"
    },
    {
     "data": {
      "image/png": "[encoded data removed]",
      "text/plain": [
       "<Figure size 432x288 with 1 Axes>"
      ]
     },
     "metadata": {
      "needs_background": "light"
     },
     "output_type": "display_data"
    }
   ],
   "source": [
    "matrix = confusion_matrix(y_test_1, pred_4_2)\n",
    "sns.heatmap(matrix, annot=True, cbar=None)"
   ]
  },
  {
   "cell_type": "markdown",
   "id": "022b0aa5",
   "metadata": {},
   "source": [
    "In this project, a true positive has big significance, it is more valuable for the algorithm to tell its user that the company will go bankrupt, which if true, he will take measures in attempt to prevent that, otherwise making no changes will lead to an actual bankrupcy. In some cases even if the user gets a false positive, stressing out and attepmting to optimise the company more would not hurt its financial status, thus making false positives preferable to false negatives.\n",
    "\n",
    "The confusion matrix for the SVC Poly shows that the model did very good at predicting True Positives, and gives very few false negatives. Along with good True negatives."
   ]
  },
  {
   "cell_type": "markdown",
   "id": "11e42ef6",
   "metadata": {},
   "source": [
    "## Conclusion"
   ]
  },
  {
   "cell_type": "markdown",
   "id": "b82bdcc1",
   "metadata": {},
   "source": [
    "The current prediction (Iteration 4) is much more satisfying with a precision of 78 and a recall of 93. Indeed the test was a bit tuned in order to get a more fair challenge to test the model's recall capabilities. But precision was high in both test environments and a positive should not be ignored when getting one."
   ]
  }
 ],
 "metadata": {
  "kernelspec": {
   "display_name": "Python 3 (ipykernel)",
   "language": "python",
   "name": "python3"
  },
  "language_info": {
   "codemirror_mode": {
    "name": "ipython",
    "version": 3
   },
   "file_extension": ".py",
   "mimetype": "text/x-python",
   "name": "python",
   "nbconvert_exporter": "python",
   "pygments_lexer": "ipython3",
   "version": "3.9.12"
  }
 },
 "nbformat": 4,
 "nbformat_minor": 5
}
